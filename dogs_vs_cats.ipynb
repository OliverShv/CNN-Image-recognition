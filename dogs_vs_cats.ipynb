{
 "cells": [
  {
   "cell_type": "code",
   "execution_count": 1,
   "id": "3dfc1764-339a-4751-94c0-eca89c5c7ece",
   "metadata": {},
   "outputs": [],
   "source": [
    "import os\n",
    "import random\n",
    "import numpy as np\n",
    "import matplotlib.pyplot as plt\n",
    "import tensorflow as tf\n",
    "from tensorflow.keras.layers import Dense, Flatten, InputLayer, Conv2D, MaxPooling2D, Dropout\n",
    "from tensorflow.keras.models import Sequential, load_model\n",
    "from tensorflow.keras.preprocessing.image import ImageDataGenerator\n",
    "from tensorflow.keras.optimizers import Adam"
   ]
  },
  {
   "cell_type": "code",
   "execution_count": 2,
   "id": "9f3494ea-47d4-4b5a-ba1d-7b8422ff9737",
   "metadata": {},
   "outputs": [],
   "source": [
    "dogs = \"PetImages/Dog/\" \n",
    "cats = \"PetImages/Cat/\"\n",
    "dirs = [dogs, cats]\n",
    "\n",
    "BATCH_SIZE = 200\n",
    "EPOCHS = 50"
   ]
  },
  {
   "cell_type": "code",
   "execution_count": 3,
   "id": "e5ec1392-a285-4948-9d28-27ba2b7a0eab",
   "metadata": {},
   "outputs": [],
   "source": [
    "#Remove files which might be corrupted\n",
    "for d in dirs:\n",
    "    for file in os.listdir(d):\n",
    "        size = os.path.getsize(d+file)\n",
    "        if size < 1000:\n",
    "            os.remove(d+file) "
   ]
  },
  {
   "cell_type": "code",
   "execution_count": 4,
   "id": "4b6f1ba9-102f-4ac6-a3bc-ffa5d726ff6b",
   "metadata": {},
   "outputs": [
    {
     "name": "stdout",
     "output_type": "stream",
     "text": [
      "Found 19996 images belonging to 2 classes.\n",
      "Found 4998 images belonging to 2 classes.\n"
     ]
    }
   ],
   "source": [
    "train_datagen = ImageDataGenerator(rescale=1./255,\n",
    "    validation_split=0.2) # set validation split\n",
    "\n",
    "train_generator = train_datagen.flow_from_directory(\n",
    "    \"PetImages\",\n",
    "    target_size=(150,150),\n",
    "    batch_size=BATCH_SIZE,\n",
    "    class_mode='categorical',\n",
    "    subset='training') # set as training data\n",
    "\n",
    "validation_generator = train_datagen.flow_from_directory(\n",
    "    \"PetImages\", # same directory as training data\n",
    "    target_size=(150,150),\n",
    "    batch_size=BATCH_SIZE,\n",
    "    class_mode='categorical',\n",
    "    subset='validation') # set as validation data"
   ]
  },
  {
   "cell_type": "code",
   "execution_count": 5,
   "id": "a7e8af40-cae7-47e9-b878-de9eea263fb0",
   "metadata": {},
   "outputs": [],
   "source": [
    "def create_model():\n",
    "    model = Sequential([\n",
    "    # Note the input shape is the desired size of the image 150x150 with 3 bytes color\n",
    "    # This is the first convolution\n",
    "    Conv2D(64, (3,3), activation='relu', input_shape=(150, 150, 3)),\n",
    "    MaxPooling2D(2, 2),\n",
    "    # The second convolution\n",
    "    Conv2D(64, (3,3), activation='relu'),\n",
    "    MaxPooling2D(2,2),\n",
    "    # The third convolution\n",
    "    Conv2D(128, (3,3), activation='relu'),\n",
    "    MaxPooling2D(2,2),\n",
    "    # The fourth convolution\n",
    "    Conv2D(128, (3,3), activation='relu'),\n",
    "    MaxPooling2D(2,2),\n",
    "    # Flatten the results to feed into a DNN\n",
    "    Flatten(),\n",
    "    Dropout(0.5),\n",
    "    # 512 neuron hidden layer\n",
    "    Dense(512, activation='relu'),\n",
    "    Dense(2, activation='softmax')\n",
    "    ])\n",
    "    model.compile(loss = 'categorical_crossentropy', optimizer='rmsprop', metrics=['accuracy'])\n",
    "    \n",
    "    return model"
   ]
  },
  {
   "cell_type": "code",
   "execution_count": 6,
   "id": "be9f8ae6-cc7c-4127-94d7-d7bcf987b8fa",
   "metadata": {
    "tags": []
   },
   "outputs": [
    {
     "name": "stdout",
     "output_type": "stream",
     "text": [
      "Model: \"sequential\"\n",
      "_________________________________________________________________\n",
      "Layer (type)                 Output Shape              Param #   \n",
      "=================================================================\n",
      "conv2d (Conv2D)              (None, 148, 148, 64)      1792      \n",
      "_________________________________________________________________\n",
      "max_pooling2d (MaxPooling2D) (None, 74, 74, 64)        0         \n",
      "_________________________________________________________________\n",
      "conv2d_1 (Conv2D)            (None, 72, 72, 64)        36928     \n",
      "_________________________________________________________________\n",
      "max_pooling2d_1 (MaxPooling2 (None, 36, 36, 64)        0         \n",
      "_________________________________________________________________\n",
      "conv2d_2 (Conv2D)            (None, 34, 34, 128)       73856     \n",
      "_________________________________________________________________\n",
      "max_pooling2d_2 (MaxPooling2 (None, 17, 17, 128)       0         \n",
      "_________________________________________________________________\n",
      "conv2d_3 (Conv2D)            (None, 15, 15, 128)       147584    \n",
      "_________________________________________________________________\n",
      "max_pooling2d_3 (MaxPooling2 (None, 7, 7, 128)         0         \n",
      "_________________________________________________________________\n",
      "flatten (Flatten)            (None, 6272)              0         \n",
      "_________________________________________________________________\n",
      "dropout (Dropout)            (None, 6272)              0         \n",
      "_________________________________________________________________\n",
      "dense (Dense)                (None, 512)               3211776   \n",
      "_________________________________________________________________\n",
      "dense_1 (Dense)              (None, 2)                 1026      \n",
      "=================================================================\n",
      "Total params: 3,472,962\n",
      "Trainable params: 3,472,962\n",
      "Non-trainable params: 0\n",
      "_________________________________________________________________\n"
     ]
    }
   ],
   "source": [
    "model = create_model()\n",
    "model.summary()"
   ]
  },
  {
   "cell_type": "code",
   "execution_count": 46,
   "id": "4da86840-44b4-4c6d-b990-4e4991dbe7af",
   "metadata": {},
   "outputs": [
    {
     "name": "stdout",
     "output_type": "stream",
     "text": [
      "Epoch 1/50\n",
      " 2/99 [..............................] - ETA: 10s - loss: 3.4240 - accuracy: 0.5075 "
     ]
    },
    {
     "name": "stderr",
     "output_type": "stream",
     "text": [
      "C:\\Users\\USER\\anaconda3\\lib\\site-packages\\PIL\\TiffImagePlugin.py:793: UserWarning: Truncated File Read\n",
      "  warnings.warn(str(msg))\n"
     ]
    },
    {
     "name": "stdout",
     "output_type": "stream",
     "text": [
      "99/99 [==============================] - 99s 974ms/step - loss: 0.7682 - accuracy: 0.5274 - val_loss: 0.6713 - val_accuracy: 0.6150\n",
      "Epoch 2/50\n",
      "99/99 [==============================] - 40s 398ms/step - loss: 0.6703 - accuracy: 0.5930 - val_loss: 0.6590 - val_accuracy: 0.6000\n",
      "Epoch 3/50\n",
      "99/99 [==============================] - 40s 401ms/step - loss: 0.6105 - accuracy: 0.6754 - val_loss: 0.5716 - val_accuracy: 0.7067\n",
      "Epoch 4/50\n",
      "99/99 [==============================] - 40s 401ms/step - loss: 0.5527 - accuracy: 0.7224 - val_loss: 0.4633 - val_accuracy: 0.7833\n",
      "Epoch 5/50\n",
      "99/99 [==============================] - 39s 393ms/step - loss: 0.4900 - accuracy: 0.7640 - val_loss: 0.4756 - val_accuracy: 0.7850\n",
      "Epoch 6/50\n",
      "99/99 [==============================] - 49s 487ms/step - loss: 0.4401 - accuracy: 0.7960 - val_loss: 0.4316 - val_accuracy: 0.8150\n",
      "Epoch 7/50\n",
      "99/99 [==============================] - 45s 451ms/step - loss: 0.3999 - accuracy: 0.8194 - val_loss: 0.3113 - val_accuracy: 0.8600\n",
      "Epoch 8/50\n",
      "99/99 [==============================] - 39s 390ms/step - loss: 0.3718 - accuracy: 0.8327 - val_loss: 0.5111 - val_accuracy: 0.7417\n",
      "Epoch 9/50\n",
      "99/99 [==============================] - 39s 391ms/step - loss: 0.3310 - accuracy: 0.8530 - val_loss: 0.3369 - val_accuracy: 0.8767\n",
      "Epoch 10/50\n",
      "99/99 [==============================] - 39s 391ms/step - loss: 0.3163 - accuracy: 0.8641 - val_loss: 0.3305 - val_accuracy: 0.8583\n",
      "Epoch 11/50\n",
      "99/99 [==============================] - 39s 391ms/step - loss: 0.2759 - accuracy: 0.8808 - val_loss: 0.2998 - val_accuracy: 0.8767\n",
      "Epoch 12/50\n",
      "99/99 [==============================] - 39s 389ms/step - loss: 0.2498 - accuracy: 0.8934 - val_loss: 0.2815 - val_accuracy: 0.8950\n",
      "Epoch 13/50\n",
      "99/99 [==============================] - 39s 393ms/step - loss: 0.2325 - accuracy: 0.9020 - val_loss: 0.2715 - val_accuracy: 0.8817\n",
      "Epoch 14/50\n",
      "99/99 [==============================] - 39s 386ms/step - loss: 0.2038 - accuracy: 0.9157 - val_loss: 0.2747 - val_accuracy: 0.8867\n",
      "Epoch 15/50\n",
      "99/99 [==============================] - 39s 391ms/step - loss: 0.1901 - accuracy: 0.9235 - val_loss: 0.3816 - val_accuracy: 0.8500\n",
      "Epoch 16/50\n",
      "99/99 [==============================] - 39s 389ms/step - loss: 0.1758 - accuracy: 0.9314 - val_loss: 0.4347 - val_accuracy: 0.8517\n",
      "Epoch 17/50\n",
      "99/99 [==============================] - 39s 389ms/step - loss: 0.1530 - accuracy: 0.9367 - val_loss: 0.3201 - val_accuracy: 0.8783\n",
      "Epoch 18/50\n",
      "99/99 [==============================] - 42s 415ms/step - loss: 0.1422 - accuracy: 0.9450 - val_loss: 0.3020 - val_accuracy: 0.8883\n",
      "Epoch 19/50\n",
      "99/99 [==============================] - 44s 439ms/step - loss: 0.1274 - accuracy: 0.9508 - val_loss: 0.2715 - val_accuracy: 0.9117\n",
      "Epoch 20/50\n",
      "99/99 [==============================] - 49s 489ms/step - loss: 0.1215 - accuracy: 0.9532 - val_loss: 0.3210 - val_accuracy: 0.8767\n",
      "Epoch 21/50\n",
      "99/99 [==============================] - 53s 530ms/step - loss: 0.1122 - accuracy: 0.9569 - val_loss: 0.3089 - val_accuracy: 0.8883\n",
      "Epoch 22/50\n",
      "99/99 [==============================] - 50s 498ms/step - loss: 0.1049 - accuracy: 0.9602 - val_loss: 0.2506 - val_accuracy: 0.9067\n",
      "Epoch 23/50\n",
      "99/99 [==============================] - 46s 461ms/step - loss: 0.0983 - accuracy: 0.9639 - val_loss: 0.3521 - val_accuracy: 0.9133\n",
      "Epoch 24/50\n",
      "99/99 [==============================] - 41s 408ms/step - loss: 0.0947 - accuracy: 0.9647 - val_loss: 0.4240 - val_accuracy: 0.8933\n",
      "Epoch 25/50\n",
      "99/99 [==============================] - 75s 755ms/step - loss: 0.0896 - accuracy: 0.9672 - val_loss: 0.2531 - val_accuracy: 0.9000\n",
      "Epoch 26/50\n",
      "99/99 [==============================] - 52s 516ms/step - loss: 0.0806 - accuracy: 0.9717 - val_loss: 0.4460 - val_accuracy: 0.9067\n",
      "Epoch 27/50\n",
      "99/99 [==============================] - 49s 491ms/step - loss: 0.0776 - accuracy: 0.9719 - val_loss: 0.2673 - val_accuracy: 0.9067\n",
      "Epoch 28/50\n",
      "99/99 [==============================] - 48s 482ms/step - loss: 0.0807 - accuracy: 0.9707 - val_loss: 0.3341 - val_accuracy: 0.9050\n",
      "Epoch 29/50\n",
      "99/99 [==============================] - 48s 483ms/step - loss: 0.0717 - accuracy: 0.9743 - val_loss: 0.3346 - val_accuracy: 0.9167\n",
      "Epoch 30/50\n",
      "99/99 [==============================] - 48s 478ms/step - loss: 0.0695 - accuracy: 0.9761 - val_loss: 0.3903 - val_accuracy: 0.9017\n",
      "Epoch 31/50\n",
      "99/99 [==============================] - 48s 479ms/step - loss: 0.0686 - accuracy: 0.9769 - val_loss: 0.2570 - val_accuracy: 0.9050\n",
      "Epoch 32/50\n",
      "99/99 [==============================] - 48s 479ms/step - loss: 0.0841 - accuracy: 0.9716 - val_loss: 0.3324 - val_accuracy: 0.9050\n",
      "Epoch 33/50\n",
      "99/99 [==============================] - 48s 476ms/step - loss: 0.0670 - accuracy: 0.9784 - val_loss: 0.4253 - val_accuracy: 0.8550\n",
      "Epoch 34/50\n",
      "99/99 [==============================] - 48s 476ms/step - loss: 0.0759 - accuracy: 0.9759 - val_loss: 0.2402 - val_accuracy: 0.8950\n",
      "Epoch 35/50\n",
      "99/99 [==============================] - 48s 474ms/step - loss: 0.0750 - accuracy: 0.9751 - val_loss: 0.2622 - val_accuracy: 0.9167\n",
      "Epoch 36/50\n",
      "99/99 [==============================] - 47s 473ms/step - loss: 0.0661 - accuracy: 0.9777 - val_loss: 0.3312 - val_accuracy: 0.9083\n",
      "Epoch 37/50\n",
      "99/99 [==============================] - 47s 471ms/step - loss: 0.0703 - accuracy: 0.9780 - val_loss: 0.2804 - val_accuracy: 0.9333\n",
      "Epoch 38/50\n",
      "99/99 [==============================] - 49s 492ms/step - loss: 0.0665 - accuracy: 0.9789 - val_loss: 0.3571 - val_accuracy: 0.9083\n",
      "Epoch 39/50\n",
      "99/99 [==============================] - 48s 474ms/step - loss: 0.0626 - accuracy: 0.9789 - val_loss: 0.2650 - val_accuracy: 0.9067\n",
      "Epoch 40/50\n",
      "99/99 [==============================] - 47s 467ms/step - loss: 0.0662 - accuracy: 0.9786 - val_loss: 0.3374 - val_accuracy: 0.9100\n",
      "Epoch 41/50\n",
      "99/99 [==============================] - 48s 477ms/step - loss: 0.0695 - accuracy: 0.9785 - val_loss: 0.2644 - val_accuracy: 0.9200\n",
      "Epoch 42/50\n",
      "99/99 [==============================] - 47s 470ms/step - loss: 0.0711 - accuracy: 0.9782 - val_loss: 0.4764 - val_accuracy: 0.9117\n",
      "Epoch 43/50\n",
      "99/99 [==============================] - 47s 469ms/step - loss: 0.0639 - accuracy: 0.9801 - val_loss: 0.4502 - val_accuracy: 0.9250\n",
      "Epoch 44/50\n",
      "99/99 [==============================] - 45s 444ms/step - loss: 0.0711 - accuracy: 0.9755 - val_loss: 0.6464 - val_accuracy: 0.8967\n",
      "Epoch 45/50\n",
      "99/99 [==============================] - 41s 410ms/step - loss: 0.0663 - accuracy: 0.9798 - val_loss: 0.7297 - val_accuracy: 0.8733\n",
      "Epoch 46/50\n",
      "99/99 [==============================] - 42s 420ms/step - loss: 0.0651 - accuracy: 0.9795 - val_loss: 0.7100 - val_accuracy: 0.8183\n",
      "Epoch 47/50\n",
      "99/99 [==============================] - 42s 415ms/step - loss: 0.0755 - accuracy: 0.9753 - val_loss: 0.4448 - val_accuracy: 0.8983\n",
      "Epoch 48/50\n",
      "99/99 [==============================] - 42s 421ms/step - loss: 0.0663 - accuracy: 0.9803 - val_loss: 0.2736 - val_accuracy: 0.9150\n",
      "Epoch 49/50\n",
      "99/99 [==============================] - 44s 434ms/step - loss: 0.0744 - accuracy: 0.9774 - val_loss: 0.3465 - val_accuracy: 0.9200\n",
      "Epoch 50/50\n",
      "99/99 [==============================] - 41s 413ms/step - loss: 0.0740 - accuracy: 0.9758 - val_loss: 0.3500 - val_accuracy: 0.9333\n"
     ]
    }
   ],
   "source": [
    "history = model.fit(train_generator, epochs=EPOCHS, steps_per_epoch=(train_generator.samples/BATCH_SIZE), validation_data = validation_generator, verbose = 1, validation_steps=3)"
   ]
  },
  {
   "cell_type": "code",
   "execution_count": 58,
   "id": "5570e98c-eafb-4a86-a593-f341390dd154",
   "metadata": {},
   "outputs": [
    {
     "data": {
      "image/png": "[encoded data removed]",
      "text/plain": [
       "<Figure size 432x288 with 1 Axes>"
      ]
     },
     "metadata": {
      "needs_background": "light"
     },
     "output_type": "display_data"
    }
   ],
   "source": [
    "for k in history.history.keys():\n",
    "    plt.plot(history.history[k])"
   ]
  },
  {
   "cell_type": "code",
   "execution_count": 7,
   "id": "6be15e48-4eba-4e8c-9309-040a4ff9272c",
   "metadata": {},
   "outputs": [],
   "source": [
    "model = load_model(\"cat_vs_dog\")"
   ]
  },
  {
   "cell_type": "code",
   "execution_count": null,
   "id": "e57a457b-4c40-450b-82ed-3a2f75e613f5",
   "metadata": {},
   "outputs": [],
   "source": [
    "import cv2\n",
    "\n",
    "imgs = [\"additional_img/dog.jpeg\",\"additional_img/cat.jpg\"]\n",
    "def predict_img(src):\n",
    "    img = cv2.imread(src)\n",
    "    img = cv2.resize(img, (150,150))\n",
    "    img = img/255\n",
    "    img = np.expand_dims(img, 0)\n",
    "    pred = model.predict(img)\n",
    "    if np.argmax(pred) == 1:\n",
    "        return \"Dog \" +str(pred)\n",
    "    else:\n",
    "        return \"Cat \"+str(pred)\n",
    "\n",
    "dog = predict_img(imgs[0])\n",
    "cat = predict_img(imgs[1])"
   ]
  },
  {
   "cell_type": "code",
   "execution_count": 9,
   "id": "01f20e22-c981-42f4-a0c9-314eafc6fd4b",
   "metadata": {},
   "outputs": [
    {
     "data": {
      "text/plain": [
       "'Dog [[1.5812547e-13 1.0000000e+00]]'"
      ]
     },
     "execution_count": 9,
     "metadata": {},
     "output_type": "execute_result"
    }
   ],
   "source": [
    "dog"
   ]
  },
  {
   "cell_type": "code",
   "execution_count": 10,
   "id": "95db3285-0dfc-454a-a2ad-380d7995ec88",
   "metadata": {},
   "outputs": [
    {
     "data": {
      "text/plain": [
       "'Cat [[1.0000000e+00 1.9161464e-19]]'"
      ]
     },
     "execution_count": 10,
     "metadata": {},
     "output_type": "execute_result"
    }
   ],
   "source": [
    "cat"
   ]
  },
  {
   "cell_type": "code",
   "execution_count": null,
   "id": "54d0a662-8cf9-4b9b-852d-2d70cb5173b7",
   "metadata": {},
   "outputs": [],
   "source": []
  }
 ],
 "metadata": {
  "kernelspec": {
   "display_name": "Python 3",
   "language": "python",
   "name": "python3"
  },
  "language_info": {
   "codemirror_mode": {
    "name": "ipython",
    "version": 3
   },
   "file_extension": ".py",
   "mimetype": "text/x-python",
   "name": "python",
   "nbconvert_exporter": "python",
   "pygments_lexer": "ipython3",
   "version": "3.8.8"
  }
 },
 "nbformat": 4,
 "nbformat_minor": 5
}
